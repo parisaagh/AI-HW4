{
  "cells": [
    {
      "cell_type": "markdown",
      "metadata": {
        "id": "view-in-github",
        "colab_type": "text"
      },
      "source": [
        "<a href=\"https://colab.research.google.com/github/parisaagh/AI-HW4/blob/main/assignment4.ipynb\" target=\"_parent\"><img src=\"https://colab.research.google.com/assets/colab-badge.svg\" alt=\"Open In Colab\"/></a>"
      ]
    },
    {
      "cell_type": "code",
      "execution_count": null,
      "id": "50908af5",
      "metadata": {
        "id": "50908af5",
        "outputId": "d0bac8aa-0f98-4214-ba57-609efb738a3a"
      },
      "outputs": [
        {
          "name": "stdout",
          "output_type": "stream",
          "text": [
            "A* Path: [(0, 0), (1, 0), (2, 0), (2, 1), (2, 2), (3, 2), (3, 3), (3, 4), (4, 4)]\n",
            "Greedy Best-First Path: [(0, 0), (0, 1), (0, 2), (0, 3), (1, 3), (1, 4), (2, 4), (3, 4), (4, 4)]\n"
          ]
        }
      ],
      "source": [
        "import heapq\n",
        "import numpy as np\n",
        "\n",
        "class Node:\n",
        "    def __init__(self, position, parent=None, g_value=0, h_value=0):\n",
        "        self.position = position\n",
        "        self.parent = parent\n",
        "        self.g_value = g_value\n",
        "        self.h_value = h_value\n",
        "\n",
        "    def __lt__(self, other):\n",
        "        return (self.g_value + self.h_value) < (other.g_value + other.h_value)\n",
        "\n",
        "def heuristic(current, goal):\n",
        "    # You need to define your heuristic function here\n",
        "    return np.sqrt((current[0] - goal[0])**2 + (current[1] - goal[1])**2)\n",
        "\n",
        "def astar(maze, start, goal):\n",
        "    open_set = []\n",
        "    closed_set = set()\n",
        "\n",
        "    start_node = Node(start)\n",
        "    goal_node = Node(goal)\n",
        "\n",
        "    heapq.heappush(open_set, start_node)\n",
        "\n",
        "    while open_set:\n",
        "        current_node = heapq.heappop(open_set)\n",
        "\n",
        "        if current_node.position == goal:\n",
        "            path = []\n",
        "            while current_node:\n",
        "                path.append(current_node.position)\n",
        "                current_node = current_node.parent\n",
        "            return path[::-1]\n",
        "\n",
        "        closed_set.add(current_node.position)\n",
        "\n",
        "        for next_position in get_neighbors(current_node.position, maze):\n",
        "            if next_position in closed_set:\n",
        "                continue\n",
        "\n",
        "            g_value = current_node.g_value + 1\n",
        "            h_value = heuristic(next_position, goal)\n",
        "            new_node = Node(next_position, current_node, g_value, h_value)\n",
        "\n",
        "            if new_node not in open_set:\n",
        "                heapq.heappush(open_set, new_node)\n",
        "\n",
        "def greedy_best_first(maze, start, goal):\n",
        "    open_set = []\n",
        "    closed_set = set()\n",
        "\n",
        "    start_node = Node(start)\n",
        "    goal_node = Node(goal)\n",
        "\n",
        "    heapq.heappush(open_set, start_node)\n",
        "\n",
        "    while open_set:\n",
        "        current_node = heapq.heappop(open_set)\n",
        "\n",
        "        if current_node.position == goal:\n",
        "            path = []\n",
        "            while current_node:\n",
        "                path.append(current_node.position)\n",
        "                current_node = current_node.parent\n",
        "            return path[::-1]\n",
        "\n",
        "        closed_set.add(current_node.position)\n",
        "\n",
        "        for next_position in get_neighbors(current_node.position, maze):\n",
        "            if next_position in closed_set:\n",
        "                continue\n",
        "\n",
        "            h_value = heuristic(next_position, goal)\n",
        "            new_node = Node(next_position, current_node, h_value=h_value)\n",
        "\n",
        "            if new_node not in open_set:\n",
        "                heapq.heappush(open_set, new_node)\n",
        "\n",
        "def get_neighbors(position, maze):\n",
        "    \"\"\"\n",
        "    Returns valid neighbors for a given position in the maze.\n",
        "    \"\"\"\n",
        "    row, col = position\n",
        "    neighbors = []\n",
        "\n",
        "    # Check left neighbor\n",
        "    if col > 0 and maze[row][col - 1] == 0:\n",
        "        neighbors.append((row, col - 1))\n",
        "\n",
        "    # Check right neighbor\n",
        "    if col < len(maze[0]) - 1 and maze[row][col + 1] == 0:\n",
        "        neighbors.append((row, col + 1))\n",
        "\n",
        "    # Check up neighbor\n",
        "    if row > 0 and maze[row - 1][col] == 0:\n",
        "        neighbors.append((row - 1, col))\n",
        "\n",
        "    # Check down neighbor\n",
        "    if row < len(maze) - 1 and maze[row + 1][col] == 0:\n",
        "        neighbors.append((row + 1, col))\n",
        "\n",
        "    return neighbors\n",
        "def __lt__(self, other):\n",
        "    return (self.g_value, self.h_value) < (other.g_value, other.h_value)\n",
        "\n",
        "# Example usage:\n",
        "maze = np.array([[0, 0, 0, 0, 0],\n",
        "                 [0, 1, 1, 0, 0],\n",
        "                 [0, 0, 0, 1, 0],\n",
        "                 [0, 1, 0, 0, 0],\n",
        "                 [0, 0, 0, 1, 0]])\n",
        "\n",
        "start_point = (0, 0)\n",
        "goal_point = (4, 4)\n",
        "\n",
        "astar_path = astar(maze, start_point, goal_point)\n",
        "greedy_path = greedy_best_first(maze, start_point, goal_point)\n",
        "\n",
        "print(\"A* Path:\", astar_path)\n",
        "print(\"Greedy Best-First Path:\", greedy_path)\n"
      ]
    },
    {
      "cell_type": "code",
      "execution_count": null,
      "id": "4a1460f5",
      "metadata": {
        "id": "4a1460f5",
        "outputId": "6101531b-49bb-4cf0-a5e5-f3313f501125"
      },
      "outputs": [
        {
          "name": "stdout",
          "output_type": "stream",
          "text": [
            "A* Path: [(0, 0), (1, 0), (2, 1), (2, 2), (2, 3), (3, 4), (4, 4)]\n"
          ]
        }
      ],
      "source": [
        "import math\n",
        "import random\n",
        "\n",
        "class Node:\n",
        "    def __init__(self, position, parent=None):\n",
        "        self.position = position\n",
        "        self.parent = parent\n",
        "        self.g = 0\n",
        "        self.h = 0\n",
        "        self.f = 0\n",
        "\n",
        "def heuristic(current, goal):\n",
        "    x1, y1 = current\n",
        "    x2, y2 = goal\n",
        "    return math.sqrt((x2 - x1)**2 + (y2 - y1)**2)\n",
        "\n",
        "def get_neighbors(position, maze):\n",
        "    row, col = position\n",
        "    neighbors = []\n",
        "\n",
        "    directions = [(0, 1), (1, 1), (1, 0), (1, -1), (0, -1), (-1, -1), (-1, 0), (-1, 1)]\n",
        "\n",
        "    random.shuffle(directions)\n",
        "\n",
        "    for dr, dc in directions:\n",
        "        new_row, new_col = row + dr, col + dc\n",
        "\n",
        "        if 0 <= new_row < len(maze) and 0 <= new_col < len(maze[0]) and maze[new_row][new_col] == 0:\n",
        "            neighbors.append((new_row, new_col))\n",
        "\n",
        "    return neighbors\n",
        "\n",
        "def astar(maze, start, goal):\n",
        "    start_node = Node(start)\n",
        "    goal_node = Node(goal)\n",
        "\n",
        "    open_set = [start_node]\n",
        "    closed_set = set()\n",
        "\n",
        "    while open_set:\n",
        "        current_node = min(open_set, key=lambda x: x.f)\n",
        "        open_set.remove(current_node)\n",
        "        closed_set.add(current_node.position)\n",
        "\n",
        "        if current_node.position == goal_node.position:\n",
        "            path = []\n",
        "            while current_node:\n",
        "                path.append(current_node.position)\n",
        "                current_node = current_node.parent\n",
        "            return path[::-1]\n",
        "\n",
        "        for next_position in get_neighbors(current_node.position, maze):\n",
        "            if next_position in closed_set:\n",
        "                continue\n",
        "\n",
        "            new_node = Node(next_position, current_node)\n",
        "            new_node.g = current_node.g + 1\n",
        "            new_node.h = heuristic(new_node.position, goal_node.position)\n",
        "            new_node.f = new_node.g + new_node.h\n",
        "\n",
        "            if new_node not in open_set:\n",
        "                open_set.append(new_node)\n",
        "\n",
        "    return None\n",
        "\n",
        "# Example usage\n",
        "maze = [\n",
        "    [0, 0, 0, 0, 0],\n",
        "    [0, 1, 1, 1, 0],\n",
        "    [0, 0, 0, 0, 0],\n",
        "    [0, 1, 1, 1, 0],\n",
        "    [0, 0, 0, 0, 0]\n",
        "]\n",
        "\n",
        "start_point = (0, 0)\n",
        "goal_point = (4, 4)\n",
        "\n",
        "astar_path = astar(maze, start_point, goal_point)\n",
        "print(\"A* Path:\", astar_path)\n"
      ]
    },
    {
      "cell_type": "code",
      "execution_count": null,
      "id": "37869cb4",
      "metadata": {
        "id": "37869cb4",
        "outputId": "dee820b8-2b79-4236-f001-ea004ab42b19"
      },
      "outputs": [
        {
          "name": "stdout",
          "output_type": "stream",
          "text": [
            "Weighted A* Path (alpha=1, beta=1): [(0, 0), (1, 0), (2, 1), (2, 2), (2, 3), (3, 4), (4, 4)]\n",
            "Weighted A* Path (alpha=2, beta=1): [(0, 0), (1, 0), (2, 1), (2, 2), (2, 3), (3, 4), (4, 4)]\n",
            "Weighted A* Path (alpha=0.5, beta=1): [(0, 0), (1, 0), (2, 1), (2, 2), (2, 3), (3, 4), (4, 4)]\n",
            "Weighted A* Path (alpha=0, beta=1): [(0, 0), (0, 1), (0, 2), (0, 3), (1, 4), (2, 4), (3, 4), (4, 4)]\n"
          ]
        }
      ],
      "source": [
        "import math\n",
        "import random\n",
        "\n",
        "class Node:\n",
        "    def __init__(self, position, parent=None):\n",
        "        self.position = position\n",
        "        self.parent = parent\n",
        "        self.g = 0\n",
        "        self.h = 0\n",
        "        self.f = 0\n",
        "\n",
        "def heuristic(current, goal):\n",
        "    x1, y1 = current\n",
        "    x2, y2 = goal\n",
        "    return math.sqrt((x2 - x1)**2 + (y2 - y1)**2)\n",
        "\n",
        "def get_neighbors(position, maze):\n",
        "    row, col = position\n",
        "    neighbors = []\n",
        "\n",
        "    directions = [(0, 1), (1, 1), (1, 0), (1, -1), (0, -1), (-1, -1), (-1, 0), (-1, 1)]\n",
        "\n",
        "    random.shuffle(directions)\n",
        "\n",
        "    for dr, dc in directions:\n",
        "        new_row, new_col = row + dr, col + dc\n",
        "\n",
        "        if 0 <= new_row < len(maze) and 0 <= new_col < len(maze[0]) and maze[new_row][new_col] == 0:\n",
        "            neighbors.append((new_row, new_col))\n",
        "\n",
        "    return neighbors\n",
        "\n",
        "def weighted_astar(maze, start, goal, alpha, beta):\n",
        "    start_node = Node(start)\n",
        "    goal_node = Node(goal)\n",
        "\n",
        "    open_set = [start_node]\n",
        "    closed_set = set()\n",
        "\n",
        "    while open_set:\n",
        "        current_node = min(open_set, key=lambda x: x.f)\n",
        "        open_set.remove(current_node)\n",
        "        closed_set.add(current_node.position)\n",
        "\n",
        "        if current_node.position == goal_node.position:\n",
        "            path = []\n",
        "            while current_node:\n",
        "                path.append(current_node.position)\n",
        "                current_node = current_node.parent\n",
        "            return path[::-1]\n",
        "\n",
        "        for next_position in get_neighbors(current_node.position, maze):\n",
        "            if next_position in closed_set:\n",
        "                continue\n",
        "\n",
        "            new_node = Node(next_position, current_node)\n",
        "            new_node.g = current_node.g + 1\n",
        "            new_node.h = heuristic(new_node.position, goal_node.position)\n",
        "            new_node.f = alpha * new_node.g + beta * new_node.h\n",
        "\n",
        "            if new_node not in open_set:\n",
        "                open_set.append(new_node)\n",
        "\n",
        "    return None\n",
        "\n",
        "# Example usage for experimenting with different alpha values\n",
        "maze = [\n",
        "    [0, 0, 0, 0, 0],\n",
        "    [0, 1, 1, 1, 0],\n",
        "    [0, 0, 0, 0, 0],\n",
        "    [0, 1, 1, 1, 0],\n",
        "    [0, 0, 0, 0, 0]\n",
        "]\n",
        "\n",
        "start_point = (0, 0)\n",
        "goal_point = (4, 4)\n",
        "\n",
        "alpha_values = [1, 2, 0.5, 0]\n",
        "beta = 1  # You can adjust beta accordingly\n",
        "\n",
        "for alpha in alpha_values:\n",
        "    weighted_astar_path = weighted_astar(maze, start_point, goal_point, alpha, beta)\n",
        "    print(f\"Weighted A* Path (alpha={alpha}, beta={beta}):\", weighted_astar_path)\n"
      ]
    },
    {
      "cell_type": "code",
      "execution_count": null,
      "id": "d5b631cb",
      "metadata": {
        "scrolled": false,
        "id": "d5b631cb",
        "outputId": "11b1a0d8-d0c7-4f50-c9ab-f2fbad3d2b71"
      },
      "outputs": [
        {
          "name": "stdout",
          "output_type": "stream",
          "text": [
            "\n",
            "Weighted A* Path (alpha=1, beta=1):\n"
          ]
        },
        {
          "name": "stderr",
          "output_type": "stream",
          "text": [
            "C:\\Users\\parsa\\AppData\\Local\\Temp\\ipykernel_14320\\3494358352.py:18: UserWarning: FixedFormatter should only be used together with FixedLocator\n",
            "  plt.gca().get_yaxis().set_ticklabels(['Obstacle', 'Free Space', 'Path'])\n"
          ]
        },
        {
          "data": {
            "image/png": "[encoded data removed]",
            "text/plain": [
              "<Figure size 640x480 with 2 Axes>"
            ]
          },
          "metadata": {},
          "output_type": "display_data"
        },
        {
          "name": "stdout",
          "output_type": "stream",
          "text": [
            "\n",
            "Weighted A* Path (alpha=2, beta=1):\n"
          ]
        },
        {
          "data": {
            "image/png": "[encoded data removed]",
            "text/plain": [
              "<Figure size 640x480 with 2 Axes>"
            ]
          },
          "metadata": {},
          "output_type": "display_data"
        },
        {
          "name": "stdout",
          "output_type": "stream",
          "text": [
            "\n",
            "Weighted A* Path (alpha=0.5, beta=1):\n"
          ]
        },
        {
          "data": {
            "image/png": "[encoded data removed]",
            "text/plain": [
              "<Figure size 640x480 with 2 Axes>"
            ]
          },
          "metadata": {},
          "output_type": "display_data"
        },
        {
          "name": "stdout",
          "output_type": "stream",
          "text": [
            "\n",
            "Weighted A* Path (alpha=0, beta=1):\n"
          ]
        },
        {
          "data": {
            "image/png": "[encoded data removed]",
            "text/plain": [
              "<Figure size 640x480 with 2 Axes>"
            ]
          },
          "metadata": {},
          "output_type": "display_data"
        }
      ],
      "source": [
        "import matplotlib.pyplot as plt\n",
        "import numpy as np\n",
        "\n",
        "# Function to visualize the path using imshow\n",
        "def visualize_path(maze, path):\n",
        "    maze_array = np.array(maze)\n",
        "\n",
        "    # Mark the path on the maze\n",
        "    for point in path:\n",
        "        maze_array[point] = 2  # You can choose any value for marking the path\n",
        "\n",
        "    # Plot the maze with the marked path\n",
        "    plt.imshow(maze_array, cmap='Blues', interpolation='nearest', vmin=0, vmax=2)\n",
        "    plt.title(\"Weighted A* Path\")\n",
        "\n",
        "    # Customize ticks and tick labels\n",
        "    plt.colorbar(ticks=[0, 1, 2])\n",
        "    plt.gca().get_yaxis().set_ticklabels(['Obstacle', 'Free Space', 'Path'])\n",
        "\n",
        "    plt.show()\n",
        "\n",
        "# Example usage:\n",
        "alpha_values = [1, 2, 0.5, 0]\n",
        "maze = [\n",
        "    [0, 0, 0, 0, 0],\n",
        "    [0, 1, 1, 1, 0],\n",
        "    [0, 0, 0, 0, 0],\n",
        "    [0, 1, 1, 1, 0],\n",
        "    [0, 0, 0, 0, 0]\n",
        "]\n",
        "\n",
        "start_point = (0, 0)\n",
        "goal_point = (4, 4)\n",
        "\n",
        "for alpha in alpha_values:\n",
        "    beta = 1  # You can adjust beta accordingly\n",
        "    weighted_astar_path = weighted_astar(maze, start_point, goal_point, alpha, beta)\n",
        "\n",
        "    # Visualization using imshow\n",
        "    print(f\"\\nWeighted A* Path (alpha={alpha}, beta={beta}):\")\n",
        "    visualize_path(maze, weighted_astar_path)\n"
      ]
    },
    {
      "cell_type": "code",
      "execution_count": null,
      "id": "bbaddf08",
      "metadata": {
        "id": "bbaddf08"
      },
      "outputs": [],
      "source": []
    }
  ],
  "metadata": {
    "kernelspec": {
      "display_name": "Python 3 (ipykernel)",
      "language": "python",
      "name": "python3"
    },
    "language_info": {
      "codemirror_mode": {
        "name": "ipython",
        "version": 3
      },
      "file_extension": ".py",
      "mimetype": "text/x-python",
      "name": "python",
      "nbconvert_exporter": "python",
      "pygments_lexer": "ipython3",
      "version": "3.11.3"
    },
    "colab": {
      "provenance": [],
      "include_colab_link": true
    }
  },
  "nbformat": 4,
  "nbformat_minor": 5
}